{
 "cells": [
  {
   "cell_type": "markdown",
   "id": "0b3dcce8-fb50-4244-98c6-8d1e13194fd6",
   "metadata": {},
   "source": [
    "Q1. What is Abstraction in OOps? Explain with an example."
   ]
  },
  {
   "cell_type": "code",
   "execution_count": 7,
   "id": "196d8736-af46-413a-be01-26cf8845a4e1",
   "metadata": {},
   "outputs": [
    {
     "name": "stdout",
     "output_type": "stream",
     "text": [
      "the area of circle 314.0\n",
      "the area of rectangle 200\n"
     ]
    }
   ],
   "source": [
    "'''Abstraction in OOP means hiding the implementation details of code and exposing only \n",
    "essential function calls to users.This simplifies usage as users can interact with the \n",
    "class without needing to understand the internal operations or data making code reusable \n",
    "and easier understanding for that we have to import ABC module and write from abc and \n",
    "provide @abstractmethod decoractor above the function to make it abstract method'''\n",
    "\n",
    "from abc import ABC,abstractmethod\n",
    "\n",
    "class obj_shape(ABC):\n",
    "    \n",
    "    @abstractmethod\n",
    "    def area(self):\n",
    "        pass\n",
    "\n",
    "class circle(obj_shape):\n",
    "\n",
    "    def __init__(self,radius):\n",
    "        self.radius = radius\n",
    "    \n",
    "    def area(self):\n",
    "        return 3.14 * self.radius *self.radius\n",
    "    \n",
    "class rectangle(obj_shape):\n",
    "\n",
    "    def __init__(self,l,b):\n",
    "        self.length = l\n",
    "        self.breadth = b\n",
    "\n",
    "    def area(self):\n",
    "        return self.length * self.breadth\n",
    "    \n",
    "cir = circle(10)\n",
    "print(\"the area of circle\",cir.area())\n",
    "\n",
    "rect = rectangle(10,20)\n",
    "print(\"the area of rectangle\",rect.area())"
   ]
  },
  {
   "cell_type": "markdown",
   "id": "ea942c96-e14e-411e-ac53-56a21a0f0091",
   "metadata": {},
   "source": [
    "Q2. Differentiate between Abstraction and Encapsulation. Explain with an example."
   ]
  },
  {
   "cell_type": "code",
   "execution_count": 8,
   "id": "1daea419-e650-465a-b4cf-f0157099f1a8",
   "metadata": {},
   "outputs": [
    {
     "name": "stdout",
     "output_type": "stream",
     "text": [
      "hello world\n",
      "(10, 20)\n"
     ]
    }
   ],
   "source": [
    "'''Abstraction is a concept that allows you to represent essential features of an object \n",
    "while hiding unnecessary details. It focuses on what an object does rather than how \n",
    "does it performs'''\n",
    "'''Encapculation means keeping the data of the class hidden so that only the developer \n",
    "can access it,not the user, it can provide security as it cannot be directly accessed and \n",
    "if we want to access it then for that we have to provide a getter function where it returns \n",
    "the data in a manner encapculation is done by putting two underscores in front of the \n",
    "data (__x) making the data private and single underscore (_x) making the data protected'''\n",
    "#example of abstraction\n",
    "from abc import ABC,abstractmethod\n",
    "\n",
    "class test(ABC):\n",
    "    \n",
    "    @abstractmethod\n",
    "    def display(self):\n",
    "        pass\n",
    "\n",
    "class display_test(test):\n",
    "\n",
    "    def display(self):\n",
    "        print(\"hello world\")\n",
    "\n",
    "t = display_test()\n",
    "t.display()\n",
    "\n",
    "#example of encapsulation\n",
    "class encapsulation:\n",
    "\n",
    "    def __init__(self,a,b):\n",
    "        self.__a = a\n",
    "        self.__b = b\n",
    "\n",
    "    def get_values(self):\n",
    "        return self.__a,self.__b\n",
    "    \n",
    "e = encapsulation(10,20)\n",
    "print(e.get_values())"
   ]
  },
  {
   "cell_type": "markdown",
   "id": "c6a31849-33ee-4503-bb0d-bece5a491c3d",
   "metadata": {},
   "source": [
    "Q3. What is abc module in python? Why is it used?"
   ]
  },
  {
   "cell_type": "markdown",
   "id": "2ddc9244-46a5-4a3a-b079-87626b411dbf",
   "metadata": {},
   "source": [
    "The abc module in Python stands for Abstract Base Classes. \n",
    "It allows us to define abstract classes and methods.Abstract classes cannot be implemented\n",
    "directly but serve as templates for other classes. Abstract methods are defined by \n",
    "providing only the function name and using the pass keyword in their body. \n",
    "Multiple classes can inherit from the same abstract class and provide their own \n",
    "implementations for the abstract methods based on users requirements"
   ]
  },
  {
   "cell_type": "markdown",
   "id": "52fe59bc-4ee0-4a2a-81e3-3b2aa9875d41",
   "metadata": {},
   "source": [
    "Q4. How can we achieve data abstraction?"
   ]
  },
  {
   "cell_type": "markdown",
   "id": "4080884a-6709-408a-b4ef-d3565d069eec",
   "metadata": {},
   "source": [
    "First we have to import ABC and abstractmedthod from abc then we have to create a \n",
    "class where we have to inherit ABC module in this class we can define abstract methods \n",
    "but we have to keep the function body empty by writing pass we have to write \n",
    "@abstractmethod decoractor above the function after that we can create concrete class \n",
    "where we have to inherit abstract class and use their abstract methods and define our own \n",
    "function logic"
   ]
  },
  {
   "cell_type": "markdown",
   "id": "d459e301-c257-4fa6-b791-6f9d27aa5c06",
   "metadata": {},
   "source": [
    "Q5. Can we create an instance of an abstract class? Explain your answer."
   ]
  },
  {
   "cell_type": "code",
   "execution_count": 9,
   "id": "7a2f7792-4793-47f0-84e7-4648205ce790",
   "metadata": {},
   "outputs": [
    {
     "ename": "TypeError",
     "evalue": "Can't instantiate abstract class test with abstract method display",
     "output_type": "error",
     "traceback": [
      "\u001b[0;31m---------------------------------------------------------------------------\u001b[0m",
      "\u001b[0;31mTypeError\u001b[0m                                 Traceback (most recent call last)",
      "Cell \u001b[0;32mIn[9], line 14\u001b[0m\n\u001b[1;32m     10\u001b[0m     \u001b[38;5;129m@abstractmethod\u001b[39m\n\u001b[1;32m     11\u001b[0m     \u001b[38;5;28;01mdef\u001b[39;00m \u001b[38;5;21mdisplay\u001b[39m(\u001b[38;5;28mself\u001b[39m):\n\u001b[1;32m     12\u001b[0m         \u001b[38;5;28;01mpass\u001b[39;00m\n\u001b[0;32m---> 14\u001b[0m t \u001b[38;5;241m=\u001b[39m \u001b[43mtest\u001b[49m\u001b[43m(\u001b[49m\u001b[43m)\u001b[49m\n",
      "\u001b[0;31mTypeError\u001b[0m: Can't instantiate abstract class test with abstract method display"
     ]
    }
   ],
   "source": [
    "'''No, we cannot create an instance of an abstract class and when we try to do it it \n",
    "throws an error like  Can't instantiate abstract class class_name with abstract method \n",
    "method_namethis happens because the abstract class is only for providing blueprint for the\n",
    "methods in concrete classes and there is no use of making its object as it does not serve \n",
    "any operation as its body is empty'''\n",
    "\n",
    "from abc import ABC,abstractmethod\n",
    "\n",
    "class test(ABC):\n",
    "    @abstractmethod\n",
    "    def display(self):\n",
    "        pass\n",
    "\n",
    "t = test()"
   ]
  },
  {
   "cell_type": "code",
   "execution_count": null,
   "id": "778e8983-f0d6-4832-941e-16682bde212a",
   "metadata": {},
   "outputs": [],
   "source": []
  },
  {
   "cell_type": "code",
   "execution_count": null,
   "id": "8121a730-b984-440b-9c38-f371df78157a",
   "metadata": {},
   "outputs": [],
   "source": []
  }
 ],
 "metadata": {
  "kernelspec": {
   "display_name": "Python 3 (ipykernel)",
   "language": "python",
   "name": "python3"
  },
  "language_info": {
   "codemirror_mode": {
    "name": "ipython",
    "version": 3
   },
   "file_extension": ".py",
   "mimetype": "text/x-python",
   "name": "python",
   "nbconvert_exporter": "python",
   "pygments_lexer": "ipython3",
   "version": "3.10.8"
  }
 },
 "nbformat": 4,
 "nbformat_minor": 5
}
